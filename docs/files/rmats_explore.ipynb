{
 "cells": [
  {
   "cell_type": "markdown",
   "source": [
    "# Exploring rMATS Output"
   ],
   "metadata": {}
  },
  {
   "cell_type": "markdown",
   "source": [
    "rMATS calls and quantifies alternative splicing sites using RNA-seq data. Although most of the splicing sites are known sites from the GTF file rather than noval, we still want to know if any of the alternative events are noval from the GTF file. So here I used the rMATS output of the RNA-seq data from a sample using GENCODE v36. When looking for the splicing patterns, a match is called when the exon and its upstream and downstream exist. If the exon is found but either the upstream or downstream is missing, a match is not called from the transcript of the gene."
   ],
   "metadata": {}
  },
  {
   "cell_type": "code",
   "execution_count": 1,
   "source": [
    "import pickle\n",
    "from typing import List\n",
    "from moPepGen import gtf\n",
    "from moPepGen.parser import RMATSParser\n",
    "\n",
    "with open('test/files/gencode_36_index/annotation.pickle', 'rb') as fh:\n",
    "    annotation = pickle.load(fh)"
   ],
   "outputs": [],
   "metadata": {}
  },
  {
   "cell_type": "markdown",
   "source": [
    "## 1. Skipped Exon (SE)"
   ],
   "metadata": {}
  },
  {
   "cell_type": "code",
   "execution_count": 2,
   "source": [
    "path = '../rmats/output/CPT0208690010_SE.MATS.JC.txt'\n",
    "skipped_exons = list(RMATSParser.parse(path, 'SE'))"
   ],
   "outputs": [],
   "metadata": {}
  },
  {
   "cell_type": "code",
   "execution_count": 11,
   "source": [
    "results = []\n",
    "i = 0\n",
    "for record in skipped_exons:\n",
    "    i += 1\n",
    "    transcript_ids = annotation.genes[record.gene_id]\n",
    "    transcripts = [annotation.transcripts[x] for x in transcript_ids.transcripts]\n",
    "    retained = False\n",
    "    skipped = False\n",
    "    for transcript in transcripts:\n",
    "        if retained and skipped:\n",
    "            break\n",
    "        it = iter(transcript.exon)\n",
    "        exon = next(it, None)\n",
    "        while exon:\n",
    "            if int(exon.location.end) == record.upstream_exon_end:\n",
    "                exon = next(it, None)\n",
    "                \n",
    "                if not exon:\n",
    "                    continue\n",
    "\n",
    "                if int(exon.location.start) == record.downstream_exon_start:\n",
    "                    skipped = True\n",
    "                    break\n",
    "                if exon.location.start == record.exon_start and \\\n",
    "                        exon.location.end == record.exon_end:\n",
    "                    exon = next(it, None)\n",
    "                    if not exon:\n",
    "                        continue\n",
    "                    if int(exon.location.start) == record.downstream_exon_start:\n",
    "                        retained = True\n",
    "                        break\n",
    "            exon = next(it, None)\n",
    "    results.append((retained, skipped))"
   ],
   "outputs": [],
   "metadata": {}
  },
  {
   "cell_type": "code",
   "execution_count": 12,
   "source": [
    "both, neither, skipped_only, retained_only = 0, 0, 0, 0\n",
    "for skipped, retained in results:\n",
    "    if skipped and retained:\n",
    "        both += 1\n",
    "    elif skipped:\n",
    "        skipped_only += 1\n",
    "    elif retained:\n",
    "        retained_only += 1\n",
    "    else:\n",
    "        neither += 1"
   ],
   "outputs": [],
   "metadata": {}
  },
  {
   "cell_type": "code",
   "execution_count": 13,
   "source": [
    "print(f'both:          {both}')\n",
    "print(f'skipped only:  {skipped_only}')\n",
    "print(f'retained only: {retained_only}')\n",
    "print(f'neither:       {neither}')"
   ],
   "outputs": [
    {
     "output_type": "stream",
     "name": "stdout",
     "text": [
      "both:          53133\n",
      "skipped only:  11206\n",
      "retained only: 12620\n",
      "neither:       3698\n"
     ]
    }
   ],
   "metadata": {}
  },
  {
   "cell_type": "markdown",
   "source": [
    "+ 53133 genes have transcripts with or without the exon of interest. For those genes, no non-canonical peptides are resulted.\n",
    "+ 11206 genes only have the transcripts that the exon of interest is skipped. For those genes, retaining the exon will generate non-canonical peptides.\n",
    "+ 12620 genes only have the transcripts that teh exon of interest is retained. For those genes, the skipping the exon will generate non-canonical peptides.\n",
    "+ 3698 genes have neither the skipped or retained transcript. This maybe because the upstream or downstream exon is also skipped. But since rMATS is not able to detect the skipping of multiple exons, we are then not able to know what really happened."
   ],
   "metadata": {}
  },
  {
   "cell_type": "markdown",
   "source": [
    "## 2. Alternative 5' Splicing Site (A5SS)"
   ],
   "metadata": {}
  },
  {
   "cell_type": "code",
   "execution_count": 14,
   "source": [
    "path = '../rmats/output/CPT0208690010_A5SS.MATS.JC.txt'\n",
    "a5ss = list(RMATSParser.parse(path, 'A5SS'))"
   ],
   "outputs": [],
   "metadata": {}
  },
  {
   "cell_type": "code",
   "execution_count": 15,
   "source": [
    "results = []\n",
    "for record in a5ss:\n",
    "    transcript_ids = annotation.genes[record.gene_id]\n",
    "    transcripts = [annotation.transcripts[x] for x in transcript_ids.transcripts]\n",
    "    short = False\n",
    "    long = False\n",
    "    for transcript in transcripts:\n",
    "        if short and long:\n",
    "            break\n",
    "        if transcript.transcript.strand == 1:\n",
    "            it = iter(transcript.exon)\n",
    "        else:\n",
    "            it = reversed(transcript.exon)\n",
    "        exon = next(it, None)\n",
    "        while exon:\n",
    "            if int(exon.location.start) == record.long_exon_start and \\\n",
    "                    int(exon.location.end) == record.long_exon_end:\n",
    "                exon = next(it, None)\n",
    "                if exon and exon.location.start == record.flanking_exon_start:\n",
    "                    long = True\n",
    "                break\n",
    "            if int(exon.location.start) == record.short_exon_start and \\\n",
    "                    int(exon.location.end) == record.short_exon_end:\n",
    "                exon = next(it, None)\n",
    "                if exon and exon.location.start == record.flanking_exon_start:\n",
    "                    short = True\n",
    "                break\n",
    "            exon = next(it, None)\n",
    "    results.append((long, short))"
   ],
   "outputs": [],
   "metadata": {}
  },
  {
   "cell_type": "code",
   "execution_count": 16,
   "source": [
    "both, neither, long_only, short_only = 0, 0, 0, 0\n",
    "for long, short in results:\n",
    "    if long and short:\n",
    "        both += 1\n",
    "    elif long:\n",
    "        long_only += 1\n",
    "    elif short:\n",
    "        short_only += 1\n",
    "    else:\n",
    "        neither += 1"
   ],
   "outputs": [],
   "metadata": {}
  },
  {
   "cell_type": "code",
   "execution_count": 17,
   "source": [
    "print(f'both:       {both}')\n",
    "print(f'long only:  {long_only}')\n",
    "print(f'short only: {short_only}')\n",
    "print(f'neither:    {neither}')"
   ],
   "outputs": [
    {
     "output_type": "stream",
     "name": "stdout",
     "text": [
      "both:       7694\n",
      "long only:  3666\n",
      "short only: 4309\n",
      "neither:    1653\n"
     ]
    }
   ],
   "metadata": {}
  },
  {
   "cell_type": "markdown",
   "source": [
    "+ 7694 genes have transcripts with both the long and short version of the exon. For those genes, no non-canonical peptides are resulted.\n",
    "+ 3666 genes only have the long exon, so the A5SS will genereate non-caninical peptides.\n",
    "+ 4309 genes only have the short exon. The A5SS also generates non-canonical peptides.\n",
    "+ 1653 genes don't have the exon annotated. The alternative splicing is more complicated and can not be infered at this stage."
   ],
   "metadata": {}
  },
  {
   "cell_type": "markdown",
   "source": [
    "## 3. Alternative 3' Splicing Site (A3SS)"
   ],
   "metadata": {}
  },
  {
   "cell_type": "code",
   "execution_count": 18,
   "source": [
    "path = '../rmats/output/CPT0208690010_A3SS.MATS.JC.txt'\n",
    "a3ss = list(RMATSParser.parse(path, 'A3SS'))"
   ],
   "outputs": [],
   "metadata": {}
  },
  {
   "cell_type": "code",
   "execution_count": 19,
   "source": [
    "results = []\n",
    "for record in a3ss:\n",
    "    transcript_ids = annotation.genes[record.gene_id]\n",
    "    transcripts = [annotation.transcripts[x] for x in transcript_ids.transcripts]\n",
    "    short = False\n",
    "    long = False\n",
    "    for transcript in transcripts:\n",
    "        if short and long:\n",
    "            break\n",
    "        if transcript.transcript.strand == 1:\n",
    "            it = iter(transcript.exon)\n",
    "        else:\n",
    "            it = reversed(transcript.exon)\n",
    "        exon = next(it, None)\n",
    "        while exon:\n",
    "            if int(exon.location.start) == record.flanking_exon_start:\n",
    "                exon = next(it, None)\n",
    "                if not exon:\n",
    "                    break\n",
    "                if exon.location.start == record.long_exon_start and \\\n",
    "                    int(exon.location.end) == record.long_exon_end:\n",
    "                    long = True\n",
    "                elif int(exon.location.start) == record.short_exon_start and \\\n",
    "                    int(exon.location.end) == record.short_exon_end:\n",
    "                    short = True\n",
    "                break\n",
    "            exon = next(it, None)\n",
    "    results.append((long, short))"
   ],
   "outputs": [],
   "metadata": {}
  },
  {
   "cell_type": "code",
   "execution_count": 20,
   "source": [
    "both, neither, long_only, short_only = 0, 0, 0, 0\n",
    "for long, short in results:\n",
    "    if long and short:\n",
    "        both += 1\n",
    "    elif long:\n",
    "        long_only += 1\n",
    "    elif short:\n",
    "        short_only += 1\n",
    "    else:\n",
    "        neither += 1"
   ],
   "outputs": [],
   "metadata": {}
  },
  {
   "cell_type": "code",
   "execution_count": 21,
   "source": [
    "print(f'both:       {both}')\n",
    "print(f'long only:  {long_only}')\n",
    "print(f'short only: {short_only}')\n",
    "print(f'neither:    {neither}')"
   ],
   "outputs": [
    {
     "output_type": "stream",
     "name": "stdout",
     "text": [
      "both:       12134\n",
      "long only:  6318\n",
      "short only: 4272\n",
      "neither:    1902\n"
     ]
    }
   ],
   "metadata": {}
  },
  {
   "cell_type": "markdown",
   "source": [
    "+ 12134 genes have transcripts with both the long and short version of the exon. For those genes, no non-canonical peptides are resulted.\n",
    "+ 6318 genes only have the long exon, so the A5SS will genereate non-caninical peptides.\n",
    "+ 4272 genes only have the short exon. The A5SS also generates non-canonical peptides.\n",
    "+ 1902 genes don't have the exon annotated. The alternative splicing is more complicated and can not be infered at this stage."
   ],
   "metadata": {}
  },
  {
   "cell_type": "markdown",
   "source": [
    "## 4. Mutually Exclusive Exons (MXE)"
   ],
   "metadata": {}
  },
  {
   "cell_type": "code",
   "execution_count": 22,
   "source": [
    "path = '../rmats/output/CPT0208690010_MXE.MATS.JC.txt'\n",
    "mxes = list(RMATSParser.parse(path, 'MXE'))"
   ],
   "outputs": [],
   "metadata": {}
  },
  {
   "cell_type": "code",
   "execution_count": 23,
   "source": [
    "results = []\n",
    "for record in mxes:\n",
    "    transcript_ids = annotation.genes[record.gene_id]\n",
    "    transcripts = [annotation.transcripts[x] for x in transcript_ids.transcripts]\n",
    "    first, second, both = False, False, False\n",
    "    for transcript in transcripts:\n",
    "        if first and second:\n",
    "            break\n",
    "        it = iter(transcript.exon)\n",
    "        exon = next(it, None)\n",
    "        while exon:\n",
    "            if int(exon.location.end) == record.upstream_exon_end:\n",
    "                exon = next(it, None)\n",
    "                if not exon:\n",
    "                    break\n",
    "                if int(exon.location.start) == record.first_exon_start and \\\n",
    "                        int(exon.location.end) == record.first_exon_end:\n",
    "                    exon = next(it, None)\n",
    "                    if not exon:\n",
    "                        break\n",
    "                    if int(exon.location.start) == record.downstream_exon_start:\n",
    "                        first = True\n",
    "                    elif int(exon.location.start) == record.second_exon_start and \\\n",
    "                            int(exon.location.end) == record.second_exon_end:\n",
    "                        exon = next(it, None)\n",
    "                        if not exon:\n",
    "                            break\n",
    "                        if int(exon.location.start) == record.downstream_exon_start:\n",
    "                            both = True\n",
    "                elif int(exon.location.start) == record.second_exon_start and \\\n",
    "                        int(exon.location.end) == record.second_exon_end:\n",
    "                    exon = next(it, None)\n",
    "                    if not exon:\n",
    "                        break\n",
    "                    if int(exon.location.start) == record.downstream_exon_start:\n",
    "                        second = True\n",
    "            exon = next(it, None)\n",
    "    results.append((first, second, both))"
   ],
   "outputs": [],
   "metadata": {}
  },
  {
   "cell_type": "code",
   "execution_count": 24,
   "source": [
    "both, neither, first_only, second_only = 0, 0, 0, 0\n",
    "for i_first, i_second, i_both in results:\n",
    "    if i_both:\n",
    "        both += 1\n",
    "    elif i_first:\n",
    "        first_only += 1\n",
    "    elif i_second:\n",
    "        second_only += 1\n",
    "    else:\n",
    "        neither += 1"
   ],
   "outputs": [],
   "metadata": {}
  },
  {
   "cell_type": "code",
   "execution_count": 25,
   "source": [
    "print(f'both:        {both}')\n",
    "print(f'first only:  {first_only}')\n",
    "print(f'second only: {second_only}')\n",
    "print(f'neither:     {neither}')"
   ],
   "outputs": [
    {
     "output_type": "stream",
     "name": "stdout",
     "text": [
      "both:        2691\n",
      "first only:  3220\n",
      "second only: 485\n",
      "neither:     852\n"
     ]
    }
   ],
   "metadata": {}
  },
  {
   "cell_type": "markdown",
   "source": [
    "+ 2691 genes have both the first and second exons. For those genes, no non-canonical peptides are resulted.\n",
    "+ 3220 genes only have the first exon, so the non-caninical peptides will be generated when the first exon is replaced with the second.\n",
    "+ 485 genes only have the second exon. Non-caninical peptides will be generated when the second exon is replaced with the first.\n",
    "+ 1902 genes don't have either version. It could also because the upstream or downstream exons are skipped. The alternative splicing is more complicated and can not be infered at this stage."
   ],
   "metadata": {}
  },
  {
   "cell_type": "markdown",
   "source": [
    "## 5. Retained Intron"
   ],
   "metadata": {}
  },
  {
   "cell_type": "code",
   "execution_count": 3,
   "source": [
    "path = '../rmats/output/CPT0208690010_RI.MATS.JC.txt'\n",
    "ri = list(RMATSParser.parse(path, 'RI'))"
   ],
   "outputs": [],
   "metadata": {}
  },
  {
   "cell_type": "code",
   "execution_count": 9,
   "source": [
    "results = []\n",
    "for record in ri:\n",
    "    tx_ids = annotation.genes[record.gene_id].transcripts\n",
    "    tx_models:List[gtf.TranscriptAnnotationModel] = [annotation.transcripts[tx_id] for tx_id in tx_ids]\n",
    "    spliced, retained = False, False\n",
    "    for tx in tx_models:\n",
    "        if spliced and retained:\n",
    "            break\n",
    "        it = iter(tx.exon)\n",
    "        exon = next(it, None)\n",
    "        while exon:\n",
    "            if exon.location.start == record.retained_intron_exon_start:\n",
    "                if exon.location.end == record.retained_intron_exon_end:\n",
    "                    retained = True\n",
    "                    exon = next(it, None)\n",
    "                    continue\n",
    "                if exon.location.end == record.upstream_exon_end:\n",
    "                    exon = next(it, None)\n",
    "                    if not exon:\n",
    "                        break\n",
    "                    if exon.location.start == record.downstream_exon_start and \\\n",
    "                            exon.location.end == record.downstream_exon_end:\n",
    "                        spliced = True\n",
    "            exon = next(it, None)\n",
    "    results.append((spliced, retained))"
   ],
   "outputs": [],
   "metadata": {}
  },
  {
   "cell_type": "code",
   "execution_count": 12,
   "source": [
    "spliced, retained, neither, both = 0, 0, 0, 0\n",
    "for result in results:\n",
    "    if result[0] and result[1]:\n",
    "        both += 1\n",
    "    elif result[0]:\n",
    "        spliced += 1\n",
    "    elif result[1]:\n",
    "        retained += 1\n",
    "    else:\n",
    "        neither += 1"
   ],
   "outputs": [],
   "metadata": {}
  },
  {
   "cell_type": "code",
   "execution_count": 13,
   "source": [
    "print(f'both:          {both}')\n",
    "print(f'spliced only:  {spliced}')\n",
    "print(f'retained only: {retained}')\n",
    "print(f'neither:       {neither}')"
   ],
   "outputs": [
    {
     "output_type": "stream",
     "name": "stdout",
     "text": [
      "both:          8818\n",
      "spliced only:  0\n",
      "retained only: 1303\n",
      "neither:       3105\n"
     ]
    }
   ],
   "metadata": {}
  },
  {
   "cell_type": "markdown",
   "source": [
    "+ 8818 genes has transcripts with the intron both spliced and retained.\n",
    "+ 0 genes only has transcripts with the intron spliced but not retained.\n",
    "+ 1303 genes only have transcripts with the intron retained but not spliced.\n",
    "+ 3105 genes don't have transcripts with either the intron retained or spliced."
   ],
   "metadata": {}
  },
  {
   "cell_type": "markdown",
   "source": [
    "An example of a gene that has only transcript with the target intron retained but not spliced. In this case below, the upstream and downstream exons have 5' or 3' alternative splicing sites. The upstream or downstream exon is also skipped in some transcripts. The start and end of the target intron is indeed valid splicing sites, but they just don't appear together in any of the reported transcript of the gene. So very likely, this is due to the incompleteness of annotation."
   ],
   "metadata": {}
  },
  {
   "cell_type": "code",
   "execution_count": 31,
   "source": [
    "ri_retained = [i for i, result in enumerate(results) if not result[0] and result[1]]\n",
    "print(f'ri_exon: {ri[ri_retained[0]].retained_intron_exon_start}-{ri[ri_retained[0]].retained_intron_exon_end}')\n",
    "print(f'upstream: {ri[ri_retained[0]].upstream_exon_start}-{ri[ri_retained[0]].upstream_exon_end}')\n",
    "print(f'downstream: {ri[ri_retained[0]].downstream_exon_start}-{ri[ri_retained[0]].downstream_exon_end}')"
   ],
   "outputs": [
    {
     "output_type": "stream",
     "name": "stdout",
     "text": [
      "ri_exon: 122518838-122521428\n",
      "upstream: 122518838-122519051\n",
      "downstream: 122521384-122521428\n"
     ]
    }
   ],
   "metadata": {}
  },
  {
   "cell_type": "code",
   "execution_count": 32,
   "source": [
    "[', '.join([f'{int(exon.location.start)}-{int(exon.location.end)}' for exon in annotation.transcripts[ex_id].exon]) for ex_id in annotation.genes[ri[ri_retained[0]].gene_id].transcripts]"
   ],
   "outputs": [
    {
     "output_type": "execute_result",
     "data": {
      "text/plain": [
       "['122503453-122505706, 122506833-122506923, 122508217-122508447, 122511108-122511188, 122515104-122515227, 122517226-122517430, 122518838-122519029, 122521384-122521428, 122522142-122522299, 122526847-122526936',\n",
       " '122505058-122505706, 122506833-122506923, 122508217-122508447, 122511108-122511188, 122515104-122515227, 122517226-122517430, 122518838-122519051, 122520503-122520581, 122521384-122521428, 122522142-122522299, 122526847-122526936',\n",
       " '122505058-122505706, 122506833-122506923, 122508217-122508450, 122511108-122511188, 122515104-122515227, 122517226-122517430, 122518838-122519029, 122520503-122520581, 122521384-122521428, 122522142-122522299, 122526847-122527000',\n",
       " '122505305-122505706, 122506833-122506923, 122508217-122508450, 122511108-122511188, 122515104-122515227, 122517226-122517430, 122518838-122519029, 122521295-122521428, 122522142-122522299, 122522798-122523756',\n",
       " '122505329-122505706, 122506833-122506923, 122508217-122508447, 122511108-122511188, 122513766-122513917',\n",
       " '122505379-122505706, 122508217-122508406',\n",
       " '122506371-122507253, 122507872-122508366',\n",
       " '122508249-122508447, 122511108-122511188, 122514711-122514728, 122515104-122515227, 122517226-122517430, 122518838-122519029, 122521384-122521428, 122522142-122522329, 122526847-122526949',\n",
       " '122508366-122508447, 122511108-122511188, 122515104-122515227, 122517226-122517430, 122518838-122519051, 122520503-122520581, 122521384-122521428, 122526847-122526960',\n",
       " '122508377-122508447, 122511108-122511188, 122513766-122513874, 122514711-122514728, 122515104-122515227, 122517226-122517430, 122518838-122519028',\n",
       " '122511110-122511188, 122515104-122515227, 122517230-122517430, 122518838-122519051, 122520503-122520581, 122521384-122521428, 122522142-122522299, 122526847-122526995',\n",
       " '122514772-122515227, 122517226-122517396',\n",
       " '122515162-122515227, 122517226-122517430, 122518838-122521428, 122522142-122522299, 122526847-122526987',\n",
       " '122517235-122517430, 122518838-122519029, 122521384-122521428, 122526847-122526962',\n",
       " '122518839-122519051, 122520503-122520581, 122521384-122521428, 122522142-122522299, 122522798-122522906, 122526847-122526959',\n",
       " '122518929-122519029, 122520503-122520581, 122521384-122521428, 122522142-122522442',\n",
       " '122519442-122519664, 122520140-122520201, 122520503-122520581, 122521384-122521428, 122522142-122522291',\n",
       " '122519909-122520581, 122521384-122521428, 122522142-122522299, 122526847-122526954',\n",
       " '122520545-122520581, 122521384-122521428, 122522142-122522299, 122522798-122522906, 122526169-122526293, 122526847-122526940',\n",
       " '122520977-122521428, 122526847-122526949']"
      ]
     },
     "metadata": {},
     "execution_count": 32
    }
   ],
   "metadata": {}
  },
  {
   "cell_type": "markdown",
   "source": [
    "This is an example of a gene that don't have the targt intron retained or spliced. Because the intron retaining even is defined strictly with the exact upstream and downstream exon start and end. In this gene below, the upstream and downstreams are either skipped have alternative splicing sites in each transcripts."
   ],
   "metadata": {}
  },
  {
   "cell_type": "code",
   "execution_count": 30,
   "source": [
    "ri_neither = [i for i, result in enumerate(results) if not result[0] and not result[1]]\n",
    "print(f'ri_exon: {ri[ri_neither[0]].retained_intron_exon_start}-{ri[ri_neither[0]].retained_intron_exon_end}')\n",
    "print(f'upstream: {ri[ri_neither[0]].upstream_exon_start}-{ri[ri_neither[0]].upstream_exon_end}')\n",
    "print(f'downstream: {ri[ri_neither[0]].downstream_exon_start}-{ri[ri_neither[0]].downstream_exon_end}')"
   ],
   "outputs": [
    {
     "output_type": "stream",
     "name": "stdout",
     "text": [
      "ri_exon: 2612937-2613284\n",
      "upstream: 2612937-2613055\n",
      "downstream: 2613162-2613284\n"
     ]
    }
   ],
   "metadata": {}
  },
  {
   "cell_type": "code",
   "execution_count": 29,
   "source": [
    "[', '.join([f'{int(exon.location.start)}-{int(exon.location.end)}' for exon in annotation.transcripts[ex_id].exon]) for ex_id in annotation.genes[ri[ri_neither[0]].gene_id].transcripts]"
   ],
   "outputs": [
    {
     "output_type": "execute_result",
     "data": {
      "text/plain": [
       "['2611477-2611901, 2612065-2612394',\n",
       " '2611477-2611901, 2612065-2612113, 2612220-2612812, 2612933-2613146',\n",
       " '2611477-2611901, 2612065-2612113, 2612220-2612253, 2612692-2612812, 2612933-2613209, 2613796-2614769',\n",
       " '2611477-2611901, 2612065-2612113, 2612220-2612271, 2612692-2612812, 2612933-2613209, 2613796-2614072, 2614317-2614587, 2614717-2614805',\n",
       " '2611477-2611901, 2612065-2612113, 2612692-2612812, 2612933-2613209, 2613796-2614072, 2614317-2614587, 2614717-2614805',\n",
       " '2611477-2611891, 2612692-2612812, 2612933-2613209, 2613796-2614072, 2614317-2614587, 2614717-2614812',\n",
       " '2611477-2611901, 2612065-2612113, 2612220-2612253, 2612692-2612812, 2612933-2613209, 2613796-2614055, 2614317-2614587, 2614717-2614824',\n",
       " '2611477-2611901, 2612065-2612113, 2612220-2612253, 2612692-2612812, 2612933-2613209, 2613796-2614072, 2614317-2614587, 2614717-2614849',\n",
       " '2612066-2612113, 2612220-2612253, 2612692-2612812, 2612933-2613209, 2613796-2614072, 2614317-2614417, 2614536-2614587, 2614717-2614790',\n",
       " '2612087-2612113, 2612220-2612253, 2612933-2613021',\n",
       " '2612933-2613209, 2613355-2613424, 2613796-2614072, 2614317-2614587, 2614717-2614792',\n",
       " '2612937-2613055, 2613162-2613209, 2613796-2614072, 2614317-2614587, 2614717-2614788',\n",
       " '2612944-2613209, 2613796-2614072, 2614317-2614849',\n",
       " '2613822-2614587, 2614717-2614809']"
      ]
     },
     "metadata": {},
     "execution_count": 29
    }
   ],
   "metadata": {}
  },
  {
   "cell_type": "markdown",
   "source": [
    "## Conclusion\n",
    "\n",
    "rMATS is able to call 5 alternative splicing events. They are skipped exons (SE), alternative 5' splicing site, alternative 3' splicing site, mutual exclusive exons and retained intron. Although all alternative slicing sites come from the provided genomic annotation (GTF), not all of the events are included in it. For example for skipped exon, in the example above, there are 14,893 events of which only the exon skipped version is annotated, 4,765 events of which only the exon retained version is annotated. 17,672 events that have both the skipped and retained version, while 43,327 of them have neither skipped or retained version of transcript."
   ],
   "metadata": {}
  }
 ],
 "metadata": {
  "interpreter": {
   "hash": "af147f163332422d80ee9a4cc41c17118608bb9b8d1998eaabcfe4c758b81062"
  },
  "kernelspec": {
   "name": "python3",
   "display_name": "Python 3.8.5 64-bit ('base': conda)"
  },
  "language_info": {
   "codemirror_mode": {
    "name": "ipython",
    "version": 3
   },
   "file_extension": ".py",
   "mimetype": "text/x-python",
   "name": "python",
   "nbconvert_exporter": "python",
   "pygments_lexer": "ipython3",
   "version": "3.8.5"
  },
  "orig_nbformat": 4
 },
 "nbformat": 4,
 "nbformat_minor": 2
}