{
 "cells": [
  {
   "cell_type": "markdown",
   "source": [
    "# Exploring rMATS Output"
   ],
   "metadata": {}
  },
  {
   "cell_type": "markdown",
   "source": [
    "rMATS calls and quantifies alternative splicing sites using RNA-seq data. Although most of the splicing sites are known sites from the GTF file rather than noval, we still want to know if any of the alternative events are noval from the GTF file. So here I used the rMATS output of the RNA-seq data from a sample using GENCODE v36. When looking for the splicing patterns, a match is called when the exon and its upstream and downstream exist. If the exon is found but either the upstream or downstream is missing, a match is not called from the transcript of the gene."
   ],
   "metadata": {}
  },
  {
   "cell_type": "code",
   "execution_count": 1,
   "source": [
    "import os\n",
    "import pickle\n",
    "from dataclasses import dataclass\n",
    "from typing import List, Iterable"
   ],
   "outputs": [],
   "metadata": {}
  },
  {
   "cell_type": "code",
   "execution_count": 3,
   "source": [
    "os.chdir('..')\n",
    "from moPepGen import gtf\n",
    "with open('test/files/gencode_36_index/annotation.pickle', 'rb') as fh:\n",
    "    annotation = pickle.load(fh)"
   ],
   "outputs": [],
   "metadata": {}
  },
  {
   "cell_type": "markdown",
   "source": [
    "## 1. Skipped Exon (SE)"
   ],
   "metadata": {}
  },
  {
   "cell_type": "code",
   "execution_count": 4,
   "source": [
    "@dataclass\n",
    "class SkippedExon:\n",
    "    gene_id: str\n",
    "    chrom: str\n",
    "    skipped_exon_start:int\n",
    "    skipped_exon_end:int\n",
    "    upstream_exon_start:int\n",
    "    upstream_exon_end:int\n",
    "    downstream_exon_start:int\n",
    "    downstream_exon_end:int"
   ],
   "outputs": [],
   "metadata": {}
  },
  {
   "cell_type": "code",
   "execution_count": 5,
   "source": [
    "skipped_exons = []\n",
    "with open('../../rmats/output/CPT0208690010_SE.MATS.JC.txt', 'rt') as fh:\n",
    "    line = next(fh, None)\n",
    "    line = next(fh, None)\n",
    "    while line:\n",
    "        fields = line.rstrip().split('\\t')\n",
    "        gene_id = fields[1].strip('\"')\n",
    "        chrom = fields[3]\n",
    "        skipped_exon_start = int(fields[5])\n",
    "        skipped_exon_end = int(fields[6])\n",
    "        upstream_exon_start = int(fields[7])\n",
    "        upstream_exon_end = int(fields[8])\n",
    "        downstream_exon_start = int(fields[9])\n",
    "        downstream_exon_end = int(fields[10])\n",
    "        record = SkippedExon(gene_id, chrom, skipped_exon_start,\n",
    "            skipped_exon_end, upstream_exon_start, upstream_exon_end,\n",
    "            downstream_exon_start, downstream_exon_end)\n",
    "        skipped_exons.append(record)\n",
    "        line = next(fh, None)"
   ],
   "outputs": [],
   "metadata": {}
  },
  {
   "cell_type": "code",
   "execution_count": 81,
   "source": [
    "results = []\n",
    "i = 0\n",
    "for record in skipped_exons:\n",
    "    i += 1\n",
    "    transcript_ids = annotation.genes[record.gene_id]\n",
    "    transcripts = [annotation.transcripts[x] for x in transcript_ids.transcripts]\n",
    "    retained = False\n",
    "    skipped = False\n",
    "    for transcript in transcripts:\n",
    "        if retained and skipped:\n",
    "            break\n",
    "        it = iter(transcript.exon)\n",
    "        exon = next(it, None)\n",
    "        while exon:\n",
    "            if int(exon.location.end) == record.upstream_exon_end:\n",
    "                exon = next(it, None)\n",
    "                \n",
    "                if not exon:\n",
    "                    continue\n",
    "\n",
    "                if int(exon.location.start) == record.downstream_exon_start:\n",
    "                    skipped = True\n",
    "                    break\n",
    "                if exon.location.start == record.skipped_exon_start and \\\n",
    "                        exon.location.end == record.skipped_exon_end:\n",
    "                    exon = next(it, None)\n",
    "                    if not exon:\n",
    "                        continue\n",
    "                    if int(exon.location.start) == record.downstream_exon_start:\n",
    "                        retained = True\n",
    "                        break\n",
    "            exon = next(it, None)\n",
    "    results.append((retained, skipped))"
   ],
   "outputs": [],
   "metadata": {}
  },
  {
   "cell_type": "code",
   "execution_count": 41,
   "source": [
    "both, neither, skipped_only, retained_only = 0, 0, 0, 0\n",
    "for skipped, retained in results:\n",
    "    if skipped and retained:\n",
    "        both += 1\n",
    "    elif skipped:\n",
    "        skipped_only += 1\n",
    "    elif retained:\n",
    "        retained_only += 1\n",
    "    else:\n",
    "        neither += 1"
   ],
   "outputs": [],
   "metadata": {}
  },
  {
   "cell_type": "code",
   "execution_count": 42,
   "source": [
    "print(f'both:          {both}')\n",
    "print(f'skipped only:  {skipped_only}')\n",
    "print(f'retained only: {retained_only}')\n",
    "print(f'neither:       {neither}')"
   ],
   "outputs": [
    {
     "output_type": "stream",
     "name": "stdout",
     "text": [
      "both:          53133\n",
      "skipped only:  11206\n",
      "retained only: 12620\n",
      "neither:       3698\n"
     ]
    }
   ],
   "metadata": {}
  },
  {
   "cell_type": "markdown",
   "source": [
    "+ 53133 genes have transcripts with or without the exon of interest. For those genes, no non-canonical peptides are resulted.\n",
    "+ 11206 genes only have the transcripts that the exon of interest is skipped. For those genes, retaining the exon will generate non-canonical peptides.\n",
    "+ 12620 genes only have the transcripts that teh exon of interest is retained. For those genes, the skipping the exon will generate non-canonical peptides.\n",
    "+ 3698 genes have neither the skipped or retained transcript. This maybe because the upstream or downstream exon is also skipped. But since rMATS is not able to detect the skipping of multiple exons, we are then not able to know what really happened."
   ],
   "metadata": {}
  },
  {
   "cell_type": "markdown",
   "source": [
    "## 2. Alternative 5' Splicing Site (A5SS)"
   ],
   "metadata": {}
  },
  {
   "cell_type": "code",
   "execution_count": 48,
   "source": [
    "@dataclass\n",
    "class AlternativeSplicingSite():\n",
    "    gene_id: str\n",
    "    chrom: str\n",
    "    long_exon_start:int\n",
    "    long_exon_end:int\n",
    "    short_exon_start:int\n",
    "    short_exon_end:int\n",
    "    flanking_exon_start:int\n",
    "    flanking_exon_end:int"
   ],
   "outputs": [],
   "metadata": {}
  },
  {
   "cell_type": "code",
   "execution_count": 49,
   "source": [
    "a5ss = []\n",
    "with open('../../rmats/output/CPT0208690010_A5SS.MATS.JC.txt', 'rt') as fh:\n",
    "    line = next(fh, None)\n",
    "    line = next(fh, None)\n",
    "    while line:\n",
    "        fields = line.rstrip().split('\\t')\n",
    "        line = next(fh, None)\n",
    "        gene_id = fields[1].strip('\"')\n",
    "        chrom = fields[3]\n",
    "        long_exon_start = int(fields[5])\n",
    "        long_exon_end = int(fields[6])\n",
    "        short_exon_start = int(fields[7])\n",
    "        short_exon_end = int(fields[8])\n",
    "        flanking_exon_start = int(fields[9])\n",
    "        flanking_exon_end = int(fields[10])\n",
    "        record = AlternativeSplicingSite(gene_id, chrom, long_exon_start, long_exon_end,\n",
    "            short_exon_start, short_exon_end, flanking_exon_start,\n",
    "            flanking_exon_end)\n",
    "        a5ss.append(record)"
   ],
   "outputs": [],
   "metadata": {}
  },
  {
   "cell_type": "code",
   "execution_count": 53,
   "source": [
    "results = []\n",
    "for record in a5ss:\n",
    "    transcript_ids = annotation.genes[record.gene_id]\n",
    "    transcripts = [annotation.transcripts[x] for x in transcript_ids.transcripts]\n",
    "    short = False\n",
    "    long = False\n",
    "    for transcript in transcripts:\n",
    "        if short and long:\n",
    "            break\n",
    "        if transcript.transcript.strand == 1:\n",
    "            it = iter(transcript.exon)\n",
    "        else:\n",
    "            it = reversed(transcript.exon)\n",
    "        exon = next(it, None)\n",
    "        while exon:\n",
    "            if int(exon.location.start) == record.long_exon_start and \\\n",
    "                    int(exon.location.end) == record.long_exon_end:\n",
    "                exon = next(it, None)\n",
    "                if exon and exon.location.start == record.flanking_exon_start:\n",
    "                    long = True\n",
    "                break\n",
    "            if int(exon.location.start) == record.short_exon_start and \\\n",
    "                    int(exon.location.end) == record.short_exon_end:\n",
    "                exon = next(it, None)\n",
    "                if exon and exon.location.start == record.flanking_exon_start:\n",
    "                    short = True\n",
    "                break\n",
    "            exon = next(it, None)\n",
    "    results.append((long, short))"
   ],
   "outputs": [],
   "metadata": {}
  },
  {
   "cell_type": "code",
   "execution_count": 54,
   "source": [
    "both, neither, long_only, short_only = 0, 0, 0, 0\n",
    "for long, short in results:\n",
    "    if long and short:\n",
    "        both += 1\n",
    "    elif long:\n",
    "        long_only += 1\n",
    "    elif short:\n",
    "        short_only += 1\n",
    "    else:\n",
    "        neither += 1"
   ],
   "outputs": [],
   "metadata": {}
  },
  {
   "cell_type": "code",
   "execution_count": 55,
   "source": [
    "print(f'both:       {both}')\n",
    "print(f'long only:  {long_only}')\n",
    "print(f'short only: {short_only}')\n",
    "print(f'neither:    {neither}')"
   ],
   "outputs": [
    {
     "output_type": "stream",
     "name": "stdout",
     "text": [
      "both:       7694\n",
      "long only:  3666\n",
      "short only: 4309\n",
      "neither:    1653\n"
     ]
    }
   ],
   "metadata": {}
  },
  {
   "cell_type": "markdown",
   "source": [
    "+ 7694 genes have transcripts with both the long and short version of the exon. For those genes, no non-canonical peptides are resulted.\n",
    "+ 3666 genes only have the long exon, so the A5SS will genereate non-caninical peptides.\n",
    "+ 4309 genes only have the short exon. The A5SS also generates non-canonical peptides.\n",
    "+ 1653 genes don't have the exon annotated. The alternative splicing is more complicated and can not be infered at this stage."
   ],
   "metadata": {}
  },
  {
   "cell_type": "markdown",
   "source": [
    "## 3. Alternative 3' Splicing Site (A3SS)"
   ],
   "metadata": {}
  },
  {
   "cell_type": "code",
   "execution_count": 26,
   "source": [
    "a3ss = []\n",
    "with open('../../rmats/output/CPT0208690010_A3SS.MATS.JC.txt', 'rt') as fh:\n",
    "    line = next(fh, None)\n",
    "    line = next(fh, None)\n",
    "    while line:\n",
    "        fields = line.rstrip().split('\\t')\n",
    "        line = next(fh, None)\n",
    "        gene_id = fields[1].strip('\"')\n",
    "        chrom = fields[3]\n",
    "        long_exon_start = int(fields[5])\n",
    "        long_exon_end = int(fields[6])\n",
    "        short_exon_start = int(fields[7])\n",
    "        short_exon_end = int(fields[8])\n",
    "        flanking_exon_start = int(fields[9])\n",
    "        flanking_exon_end = int(fields[10])\n",
    "        record = AlternativeSplicingSite(gene_id, chrom, long_exon_start, long_exon_end,\n",
    "            short_exon_start, short_exon_end, flanking_exon_start,\n",
    "            flanking_exon_end)\n",
    "        a3ss.append(record)"
   ],
   "outputs": [],
   "metadata": {}
  },
  {
   "cell_type": "code",
   "execution_count": 27,
   "source": [
    "results = []\n",
    "for record in a3ss:\n",
    "    transcript_ids = annotation.genes[record.gene_id]\n",
    "    transcripts = [annotation.transcripts[x] for x in transcript_ids.transcripts]\n",
    "    short = False\n",
    "    long = False\n",
    "    for transcript in transcripts:\n",
    "        if short and long:\n",
    "            break\n",
    "        if transcript.transcript.strand == 1:\n",
    "            it = iter(transcript.exon)\n",
    "        else:\n",
    "            it = reversed(transcript.exon)\n",
    "        exon = next(it, None)\n",
    "        while exon:\n",
    "            if int(exon.location.start) == record.flanking_exon_start:\n",
    "                exon = next(it, None)\n",
    "                if not exon:\n",
    "                    break\n",
    "                if exon.location.start == record.long_exon_start and \\\n",
    "                    int(exon.location.end) == record.long_exon_end:\n",
    "                    long = True\n",
    "                elif int(exon.location.start) == record.short_exon_start and \\\n",
    "                    int(exon.location.end) == record.short_exon_end:\n",
    "                    short = True\n",
    "                break\n",
    "            exon = next(it, None)\n",
    "    results.append((long, short))"
   ],
   "outputs": [],
   "metadata": {}
  },
  {
   "cell_type": "code",
   "execution_count": 28,
   "source": [
    "both, neither, long_only, short_only = 0, 0, 0, 0\n",
    "for long, short in results:\n",
    "    if long and short:\n",
    "        both += 1\n",
    "    elif long:\n",
    "        long_only += 1\n",
    "    elif short:\n",
    "        short_only += 1\n",
    "    else:\n",
    "        neither += 1"
   ],
   "outputs": [],
   "metadata": {}
  },
  {
   "cell_type": "code",
   "execution_count": 29,
   "source": [
    "print(f'both:       {both}')\n",
    "print(f'long only:  {long_only}')\n",
    "print(f'short only: {short_only}')\n",
    "print(f'neither:    {neither}')"
   ],
   "outputs": [
    {
     "output_type": "stream",
     "name": "stdout",
     "text": [
      "both:       12134\n",
      "long only:  6318\n",
      "short only: 4272\n",
      "neither:    1902\n"
     ]
    }
   ],
   "metadata": {}
  },
  {
   "cell_type": "markdown",
   "source": [
    "+ 12134 genes have transcripts with both the long and short version of the exon. For those genes, no non-canonical peptides are resulted.\n",
    "+ 6318 genes only have the long exon, so the A5SS will genereate non-caninical peptides.\n",
    "+ 4272 genes only have the short exon. The A5SS also generates non-canonical peptides.\n",
    "+ 1902 genes don't have the exon annotated. The alternative splicing is more complicated and can not be infered at this stage."
   ],
   "metadata": {}
  },
  {
   "cell_type": "markdown",
   "source": [
    "## 4. Mutually Exclusive Exons (MXE)"
   ],
   "metadata": {}
  },
  {
   "cell_type": "code",
   "execution_count": 58,
   "source": [
    "@dataclass\n",
    "class MutuallyExclusiveExons():\n",
    "    gene_id: str\n",
    "    chrom: str\n",
    "    first_exon_start:int\n",
    "    first_exon_end:int\n",
    "    second_exon_start:int\n",
    "    second_exon_end:int\n",
    "    upstream_exon_start:int\n",
    "    upstream_exon_end:int\n",
    "    downstream_exon_start:int\n",
    "    downstream_exon_end:int"
   ],
   "outputs": [],
   "metadata": {}
  },
  {
   "cell_type": "code",
   "execution_count": 94,
   "source": [
    "mxes = []\n",
    "with open('../../rmats/output/CPT0208690010_MXE.MATS.JC.txt', 'rt') as fh:\n",
    "    line = next(fh, None)\n",
    "    line = next(fh, None)\n",
    "    while line:\n",
    "        fields = line.rstrip().split('\\t')\n",
    "        line = next(fh, None)\n",
    "        gene_id = fields[1].strip('\"')\n",
    "        chrom = fields[3]\n",
    "        first_exon_start = int(fields[5])\n",
    "        first_exon_end = int(fields[6])\n",
    "        second_exon_start = int(fields[7])\n",
    "        second_exon_end = int(fields[8])\n",
    "        upstream_exon_start = int(fields[9])\n",
    "        upstream_exon_end = int(fields[10])\n",
    "        downstream_exon_start = int(fields[11])\n",
    "        downstream_exon_end = int(fields[12])\n",
    "        record = MutuallyExclusiveExons(gene_id, chrom, first_exon_start,\n",
    "            first_exon_end, second_exon_start, second_exon_end,\n",
    "            upstream_exon_start, upstream_exon_end, downstream_exon_start,\n",
    "            downstream_exon_end)\n",
    "        mxes.append(record)"
   ],
   "outputs": [],
   "metadata": {}
  },
  {
   "cell_type": "code",
   "execution_count": 95,
   "source": [
    "results = []\n",
    "for record in mxes:\n",
    "    transcript_ids = annotation.genes[record.gene_id]\n",
    "    transcripts = [annotation.transcripts[x] for x in transcript_ids.transcripts]\n",
    "    first, second, both = False, False, False\n",
    "    for transcript in transcripts:\n",
    "        if first and second:\n",
    "            break\n",
    "        it = iter(transcript.exon)\n",
    "        exon = next(it, None)\n",
    "        while exon:\n",
    "            if int(exon.location.end) == record.upstream_exon_end:\n",
    "                exon = next(it, None)\n",
    "                if not exon:\n",
    "                    break\n",
    "                if int(exon.location.start) == record.first_exon_start and \\\n",
    "                        int(exon.location.end) == record.first_exon_end:\n",
    "                    exon = next(it, None)\n",
    "                    if not exon:\n",
    "                        break\n",
    "                    if int(exon.location.start) == record.downstream_exon_start:\n",
    "                        first = True\n",
    "                    elif int(exon.location.start) == record.second_exon_start and \\\n",
    "                            int(exon.location.end) == record.second_exon_end:\n",
    "                        exon = next(it, None)\n",
    "                        if not exon:\n",
    "                            break\n",
    "                        if int(exon.location.start) == record.downstream_exon_start:\n",
    "                            both = True\n",
    "                elif int(exon.location.start) == record.second_exon_start and \\\n",
    "                        int(exon.location.end) == record.second_exon_end:\n",
    "                    exon = next(it, None)\n",
    "                    if not exon:\n",
    "                        break\n",
    "                    if int(exon.location.start) == record.downstream_exon_start:\n",
    "                        second = True\n",
    "            exon = next(it, None)\n",
    "    results.append((first, second, both))"
   ],
   "outputs": [],
   "metadata": {}
  },
  {
   "cell_type": "code",
   "execution_count": 96,
   "source": [
    "both, neither, first_only, second_only = 0, 0, 0, 0\n",
    "for i_first, i_second, i_both in results:\n",
    "    if i_both:\n",
    "        both += 1\n",
    "    elif i_first:\n",
    "        first_only += 1\n",
    "    elif i_second:\n",
    "        second_only += 1\n",
    "    else:\n",
    "        neither += 1"
   ],
   "outputs": [],
   "metadata": {}
  },
  {
   "cell_type": "code",
   "execution_count": 97,
   "source": [
    "print(f'both:        {both}')\n",
    "print(f'first only:  {first_only}')\n",
    "print(f'second only: {second_only}')\n",
    "print(f'neither:     {neither}')"
   ],
   "outputs": [
    {
     "output_type": "stream",
     "name": "stdout",
     "text": [
      "both:        2691\n",
      "first only:  3220\n",
      "second only: 485\n",
      "neither:     852\n"
     ]
    }
   ],
   "metadata": {}
  },
  {
   "cell_type": "markdown",
   "source": [
    "+ 2691 genes have both the first and second exons. For those genes, no non-canonical peptides are resulted.\n",
    "+ 3220 genes only have the first exon, so the non-caninical peptides will be generated when the first exon is replaced with the second.\n",
    "+ 485 genes only have the second exon. Non-caninical peptides will be generated when the second exon is replaced with the first.\n",
    "+ 1902 genes don't have either version. It could also because the upstream or downstream exons are skipped. The alternative splicing is more complicated and can not be infered at this stage."
   ],
   "metadata": {}
  },
  {
   "cell_type": "markdown",
   "source": [
    "## Conclusion\n",
    "\n",
    "rMATS is able to call 5 alternative splicing events. They are skipped exons (SE), alternative 5' splicing site, alternative 3' splicing site, mutual exclusive exons and retained intron. Although all alternative slicing sites come from the provided genomic annotation (GTF), not all of the events are included in it. For example for skipped exon, in the example above, there are 14,893 events of which only the exon skipped version is annotated, 4,765 events of which only the exon retained version is annotated. 17,672 events that have both the skipped and retained version, while 43,327 of them have neither skipped or retained version of transcript."
   ],
   "metadata": {}
  }
 ],
 "metadata": {
  "interpreter": {
   "hash": "af147f163332422d80ee9a4cc41c17118608bb9b8d1998eaabcfe4c758b81062"
  },
  "kernelspec": {
   "display_name": "Python 3.8.5 64-bit ('base': conda)",
   "name": "python3"
  },
  "language_info": {
   "codemirror_mode": {
    "name": "ipython",
    "version": 3
   },
   "file_extension": ".py",
   "mimetype": "text/x-python",
   "name": "python",
   "nbconvert_exporter": "python",
   "pygments_lexer": "ipython3",
   "version": "3.8.5"
  },
  "orig_nbformat": 4
 },
 "nbformat": 4,
 "nbformat_minor": 2
}